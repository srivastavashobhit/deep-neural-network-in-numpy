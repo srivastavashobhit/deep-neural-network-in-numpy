{
 "cells": [
  {
   "cell_type": "code",
   "execution_count": 28,
   "metadata": {},
   "outputs": [],
   "source": [
    "import pandas as pd\n",
    "from collections import Counter\n",
    "from math import log2 as log\n",
    "import numpy as np\n",
    "from sklearn import tree"
   ]
  },
  {
   "cell_type": "code",
   "execution_count": 29,
   "metadata": {},
   "outputs": [],
   "source": [
    "dt_tree = tree.DecisionTreeClassifier()"
   ]
  },
  {
   "cell_type": "code",
   "execution_count": 30,
   "metadata": {},
   "outputs": [],
   "source": [
    "data = pd.read_csv('tennis.csv')"
   ]
  },
  {
   "cell_type": "code",
   "execution_count": 31,
   "metadata": {},
   "outputs": [],
   "source": [
    "from DecisionTree import make_tree, classify"
   ]
  },
  {
   "cell_type": "code",
   "execution_count": 32,
   "metadata": {},
   "outputs": [],
   "source": [
    "root = make_tree(data)"
   ]
  },
  {
   "cell_type": "code",
   "execution_count": 33,
   "metadata": {},
   "outputs": [
    {
     "name": "stdout",
     "output_type": "stream",
     "text": [
      "no no\n",
      "no no\n",
      "yes yes\n",
      "yes yes\n",
      "yes yes\n",
      "no no\n",
      "yes yes\n",
      "no no\n",
      "yes yes\n",
      "yes yes\n",
      "yes yes\n",
      "yes yes\n",
      "yes yes\n",
      "no no\n"
     ]
    }
   ],
   "source": [
    "for i in range(data.shape[0]):\n",
    "    dp = data.iloc[i].drop('play')\n",
    "    res = classify(root, dp)\n",
    "    print(data.iloc[i,-1], res)"
   ]
  },
  {
   "cell_type": "code",
   "execution_count": 16,
   "metadata": {},
   "outputs": [
    {
     "ename": "TypeError",
     "evalue": "DecisionTreeClassifier.fit() missing 1 required positional argument: 'y'",
     "output_type": "error",
     "traceback": [
      "\u001b[1;31m---------------------------------------------------------------------------\u001b[0m",
      "\u001b[1;31mTypeError\u001b[0m                                 Traceback (most recent call last)",
      "\u001b[1;32mc:\\Users\\ssrivastava_outwardi\\Documents\\GitHub\\assignment-3-learning-and-representing-knowledge-srivastavashobhit\\scratch.ipynb Cell 5\u001b[0m in \u001b[0;36m1\n\u001b[1;32m----> <a href='vscode-notebook-cell:/c%3A/Users/ssrivastava_outwardi/Documents/GitHub/assignment-3-learning-and-representing-knowledge-srivastavashobhit/scratch.ipynb#X23sZmlsZQ%3D%3D?line=0'>1</a>\u001b[0m dt_tree\u001b[39m.\u001b[39;49mfit(data)\n",
      "\u001b[1;31mTypeError\u001b[0m: DecisionTreeClassifier.fit() missing 1 required positional argument: 'y'"
     ]
    }
   ],
   "source": [
    "dt_tree.fit(data)"
   ]
  },
  {
   "cell_type": "code",
   "execution_count": null,
   "metadata": {},
   "outputs": [],
   "source": []
  }
 ],
 "metadata": {
  "kernelspec": {
   "display_name": "main",
   "language": "python",
   "name": "python3"
  },
  "language_info": {
   "codemirror_mode": {
    "name": "ipython",
    "version": 3
   },
   "file_extension": ".py",
   "mimetype": "text/x-python",
   "name": "python",
   "nbconvert_exporter": "python",
   "pygments_lexer": "ipython3",
   "version": "3.10.6"
  },
  "orig_nbformat": 4
 },
 "nbformat": 4,
 "nbformat_minor": 2
}
